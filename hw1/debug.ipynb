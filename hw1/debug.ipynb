{
 "cells": [
  {
   "cell_type": "code",
   "execution_count": 1,
   "metadata": {},
   "outputs": [],
   "source": [
    "l = [23,423,123,545,65]"
   ]
  },
  {
   "cell_type": "code",
   "execution_count": 11,
   "metadata": {},
   "outputs": [],
   "source": [
    "def test(l : list()):\n",
    "    for idx in range(len(l)):\n",
    "        if l[idx] == 423:\n",
    "            return idx\n",
    "\n",
    "\n",
    "a = test(l)"
   ]
  },
  {
   "cell_type": "code",
   "execution_count": 12,
   "metadata": {},
   "outputs": [
    {
     "name": "stdout",
     "output_type": "stream",
     "text": [
      "1\n",
      "1\n",
      "[23, 324, 123, 545, 65]\n"
     ]
    }
   ],
   "source": [
    "print(a)\n",
    "l[a] = 324\n",
    "print(a)\n",
    "print(l)"
   ]
  },
  {
   "cell_type": "code",
   "execution_count": 13,
   "metadata": {},
   "outputs": [],
   "source": [
    "from models import Map, map1, map2, map3\n",
    "\n",
    "myMap = Map(map1)"
   ]
  },
  {
   "cell_type": "code",
   "execution_count": 15,
   "metadata": {},
   "outputs": [
    {
     "data": {
      "text/plain": [
       "[<models.Node at 0x2d6de375130>,\n",
       " <models.Node at 0x2d6de375dc0>,\n",
       " <models.Node at 0x2d6de375eb0>,\n",
       " <models.Node at 0x2d6de375a60>,\n",
       " <models.Node at 0x2d6de375bb0>,\n",
       " <models.Node at 0x2d6de375a00>,\n",
       " <models.Node at 0x2d6de375fa0>,\n",
       " <models.Node at 0x2d6de375040>]"
      ]
     },
     "execution_count": 15,
     "metadata": {},
     "output_type": "execute_result"
    }
   ],
   "source": [
    "myMap.nodes"
   ]
  },
  {
   "cell_type": "code",
   "execution_count": 19,
   "metadata": {},
   "outputs": [
    {
     "name": "stdout",
     "output_type": "stream",
     "text": [
      "[23, 423, 123, 545, 65] [23, 423, 123, 545, 65]\n",
      "[23, 423, 123, 545, 65] [23, 423, -99, 545, 65]\n"
     ]
    }
   ],
   "source": [
    "l = [23,423,123,545,65]\n",
    "\n",
    "k = list()\n",
    "for i in range(len(l)):\n",
    "    k.append(l[i])\n",
    "\n",
    "\n",
    "print(l,k)\n",
    "k[2] = -99\n",
    "print(l,k)"
   ]
  }
 ],
 "metadata": {
  "interpreter": {
   "hash": "4a58629c167b22d17cee97ce8d962734f04656b21e4adc5e2e5541264ba60242"
  },
  "kernelspec": {
   "display_name": "Python 3.8.10 64-bit",
   "language": "python",
   "name": "python3"
  },
  "language_info": {
   "codemirror_mode": {
    "name": "ipython",
    "version": 3
   },
   "file_extension": ".py",
   "mimetype": "text/x-python",
   "name": "python",
   "nbconvert_exporter": "python",
   "pygments_lexer": "ipython3",
   "version": "3.8.10"
  },
  "orig_nbformat": 4
 },
 "nbformat": 4,
 "nbformat_minor": 2
}
